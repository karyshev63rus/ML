{
 "cells": [
  {
   "cell_type": "markdown",
   "metadata": {},
   "source": [
    "<img src='pics/otus.png'>"
   ]
  },
  {
   "cell_type": "markdown",
   "metadata": {},
   "source": [
    "# KNN, подбор параметров модели"
   ]
  },
  {
   "cell_type": "code",
   "execution_count": null,
   "metadata": {},
   "outputs": [],
   "source": [
    "import pandas as pd\n",
    "import numpy as np\n",
    "from sklearn import datasets\n",
    "import matplotlib\n",
    "import matplotlib.pyplot as plt\n",
    "\n",
    "\n",
    "%matplotlib inline\n",
    "plt.rcParams[\"figure.figsize\"] = [12, 8]\n",
    "\n"
   ]
  },
  {
   "cell_type": "markdown",
   "metadata": {},
   "source": [
    "## KNN в задаче классификации"
   ]
  },
  {
   "cell_type": "code",
   "execution_count": null,
   "metadata": {},
   "outputs": [],
   "source": [
    "X, y = datasets.make_blobs(n_samples=100, random_state=4, centers=2, cluster_std=2)\n",
    "X[:5], y[:5]"
   ]
  },
  {
   "cell_type": "code",
   "execution_count": null,
   "metadata": {},
   "outputs": [],
   "source": [
    "def get_class_colour(class_label):\n",
    "    return 'green' if class_label else 'blue'"
   ]
  },
  {
   "cell_type": "code",
   "execution_count": null,
   "metadata": {},
   "outputs": [],
   "source": [
    "def plot_points(X, y, new_points=None, new_prediction=None, nearest_points=None, file_name=None):\n",
    "    plt.scatter(X[:, 0], X[:, 1], c=[get_class_colour(y_i) for y_i in y], s=100, edgecolor='black', alpha=0.3)\n",
    "    \n",
    "    if new_points is not None:\n",
    "        plt.scatter(new_points[:, 0], new_points[:, 1], c='black', s=100, edgecolor='black')\n",
    "    \n",
    "    if new_prediction is not None:\n",
    "        plt.scatter(new_points[:, 0], new_points[:, 1], c=[get_class_colour(y_i) for y_i in new_prediction], s=100, edgecolor='black')\n",
    "        \n",
    "    if nearest_points is not None:\n",
    "        plt.scatter(nearest_points[:, 0], nearest_points[:, 1], c='red', s=100, edgecolor='black')\n",
    "    \n",
    "    plt.title(\"Classification problem \\n What is the color for the new (x1, x2) pair?\")\n",
    "    plt.xlabel(\"x1 (feature)\")\n",
    "    plt.ylabel(\"x2 (feature)\")\n",
    "    plt.gca().set_aspect('equal', adjustable='box')\n",
    "    \n",
    "    if file_name:\n",
    "        plt.savefig(filename)"
   ]
  },
  {
   "cell_type": "code",
   "execution_count": null,
   "metadata": {},
   "outputs": [],
   "source": [
    "plot_points(X, y)"
   ]
  },
  {
   "cell_type": "code",
   "execution_count": null,
   "metadata": {},
   "outputs": [],
   "source": [
    "X_new = np.array([[12, 6]])"
   ]
  },
  {
   "cell_type": "code",
   "execution_count": null,
   "metadata": {},
   "outputs": [],
   "source": [
    "plot_points(X, y, new_points=X_new)"
   ]
  },
  {
   "cell_type": "code",
   "execution_count": null,
   "metadata": {},
   "outputs": [],
   "source": [
    "from scipy.spatial.distance import euclidean\n",
    "\n",
    "def find_nearest_point_index(x_new, X):\n",
    "    d_min = euclidean(x_new, X[0])\n",
    "    min_idx = 0\n",
    "    for idx in xrange(1, X.shape[0]):\n",
    "        d = euclidean(x_new, X[idx])\n",
    "        if d < d_min:\n",
    "            d_min = d\n",
    "            min_idx = idx\n",
    "    return min_idx\n",
    "\n",
    "\n",
    "min_idx = find_nearest_point_index(X_new, X)"
   ]
  },
  {
   "cell_type": "code",
   "execution_count": null,
   "metadata": {},
   "outputs": [],
   "source": [
    "plot_points(X, y, new_points=X_new, nearest_points=X[[min_idx]])"
   ]
  },
  {
   "cell_type": "code",
   "execution_count": null,
   "metadata": {},
   "outputs": [],
   "source": [
    "def predict_class(x_new, X, y):\n",
    "    min_idx = find_nearest_point_index(x_new, X)\n",
    "    return y[min_idx]\n",
    "\n",
    "y_new = predict_class(X_new, X, y)"
   ]
  },
  {
   "cell_type": "code",
   "execution_count": null,
   "metadata": {},
   "outputs": [],
   "source": [
    "plot_points(X, y, new_points=X_new, new_prediction=[y_new], nearest_points=X[[min_idx]])"
   ]
  },
  {
   "cell_type": "code",
   "execution_count": null,
   "metadata": {},
   "outputs": [],
   "source": [
    "X_new = np.array([[12, -2]])\n",
    "min_idx = find_nearest_point_index(X_new, X)\n",
    "y_new = predict_class(X_new, X, y)"
   ]
  },
  {
   "cell_type": "code",
   "execution_count": null,
   "metadata": {},
   "outputs": [],
   "source": [
    "plot_points(X, y, new_points=X_new, new_prediction=[y_new], nearest_points=X[[min_idx]])"
   ]
  },
  {
   "cell_type": "code",
   "execution_count": null,
   "metadata": {},
   "outputs": [],
   "source": [
    "from sklearn.neighbors import KNeighborsClassifier\n",
    "\n",
    "knn = KNeighborsClassifier(n_neighbors=1)\n",
    "knn.fit(X, y)\n",
    "y_pred = knn.predict(X_new)"
   ]
  },
  {
   "cell_type": "code",
   "execution_count": null,
   "metadata": {},
   "outputs": [],
   "source": [
    "plot_points(X, y, new_points=X_new, new_prediction=[y_pred])"
   ]
  },
  {
   "cell_type": "code",
   "execution_count": null,
   "metadata": {},
   "outputs": [],
   "source": [
    "X_new = np.c_[np.random.randint(5, 15, 10), np.random.randint(-2, 8, 10)]"
   ]
  },
  {
   "cell_type": "code",
   "execution_count": null,
   "metadata": {},
   "outputs": [],
   "source": [
    "plot_points(X, y, new_points=X_new, new_prediction=knn.predict(X_new))"
   ]
  },
  {
   "cell_type": "code",
   "execution_count": null,
   "metadata": {},
   "outputs": [],
   "source": [
    "from scipy.spatial.distance import cdist\n",
    "from collections import Counter\n",
    "\n",
    "def predict_class(x_new, X, y, k=1):\n",
    "\n",
    "    dist = cdist(x_new, X)\n",
    "    nearest_y = y[np.argpartition(dist, k, axis=1)[:, :k]]\n",
    "    return np.array([Counter(row).most_common(1)[0][0] for row in nearest_y])\n"
   ]
  },
  {
   "cell_type": "code",
   "execution_count": null,
   "metadata": {},
   "outputs": [],
   "source": [
    "y_pred = predict_class(X_new, X, y, k=3)"
   ]
  },
  {
   "cell_type": "code",
   "execution_count": null,
   "metadata": {},
   "outputs": [],
   "source": [
    "plot_points(X, y, new_points=X_new, new_prediction=y_pred)"
   ]
  },
  {
   "cell_type": "code",
   "execution_count": null,
   "metadata": {},
   "outputs": [],
   "source": [
    "knn = KNeighborsClassifier(n_neighbors=3)\n",
    "knn.fit(X, y)\n",
    "y_pred = knn.predict(X_new)\n",
    "plot_points(X, y, new_points=X_new, new_prediction=y_pred)"
   ]
  },
  {
   "cell_type": "code",
   "execution_count": null,
   "metadata": {},
   "outputs": [],
   "source": [
    "X, y = datasets.make_blobs(n_samples=100, random_state=5, centers=2)\n",
    "X[:5], y[:5]\n",
    "plot_points(X, y)"
   ]
  },
  {
   "cell_type": "code",
   "execution_count": null,
   "metadata": {},
   "outputs": [],
   "source": [
    "\n",
    "h = .02\n",
    "x_min, x_max = X[:, 0].min() - .5, X[:, 0].max() + .5\n",
    "y_min, y_max = X[:, 1].min() - .5, X[:, 1].max() + .5\n",
    "xx, yy = np.meshgrid(np.arange(x_min, x_max, h), np.arange(y_min, y_max, h))\n",
    "x_pred = np.c_[xx.ravel(), yy.ravel()]\n"
   ]
  },
  {
   "cell_type": "code",
   "execution_count": null,
   "metadata": {},
   "outputs": [],
   "source": [
    "def plot_knn_classifier(k):\n",
    "    knn = KNeighborsClassifier(n_neighbors=k)\n",
    "    knn.fit(X, y)\n",
    "    Z = knn.predict(x_pred)\n",
    "    Z = Z.reshape(xx.shape)\n",
    "    plt.figure(1, figsize=(12, 8))\n",
    "    plt.pcolormesh(xx, yy, Z, cmap=plt.cm.Paired)\n",
    "\n",
    "    plt.scatter(X[:, 0], X[:, 1], c=y, edgecolors='k', cmap=plt.cm.Paired)\n",
    "    plt.xlim(xx.min(), xx.max())\n",
    "    plt.ylim(yy.min(), yy.max())\n",
    "    plt.xticks(())\n",
    "    plt.yticks(())\n",
    "    plt.show()\n"
   ]
  },
  {
   "cell_type": "code",
   "execution_count": null,
   "metadata": {},
   "outputs": [],
   "source": [
    "plot_knn_classifier(1)"
   ]
  },
  {
   "cell_type": "code",
   "execution_count": null,
   "metadata": {},
   "outputs": [],
   "source": [
    "plot_knn_classifier(30)"
   ]
  },
  {
   "cell_type": "code",
   "execution_count": null,
   "metadata": {},
   "outputs": [],
   "source": [
    "plot_knn_classifier(90)"
   ]
  },
  {
   "cell_type": "markdown",
   "metadata": {},
   "source": [
    "## Нормализация в knn"
   ]
  },
  {
   "cell_type": "code",
   "execution_count": null,
   "metadata": {},
   "outputs": [],
   "source": [
    "X, y = datasets.make_blobs(n_samples=100, random_state=4, centers=2, cluster_std=2)\n",
    "X[:, 1] *= 1000000000\n",
    "X[:5], y[:5]"
   ]
  },
  {
   "cell_type": "code",
   "execution_count": null,
   "metadata": {},
   "outputs": [],
   "source": [
    "def plot_points_scaled(X, y, new_points=None, new_prediction=None, nearest_points=None, file_name=None):\n",
    "    plt.scatter(X[:, 0], X[:, 1], c=[get_class_colour(y_i) for y_i in y], s=100, edgecolor='black', alpha=0.3)\n",
    "    plt.figure(1, figsize=(12, 8))\n",
    "    plt.title(\"Classification problem \\n What is the color for the new (x1, x2) pair?\")\n",
    "    plt.xlabel(\"x1 (feature)\")\n",
    "    plt.ylabel(\"x2 (feature)\")\n",
    "    plt.gca().set_aspect('equal', adjustable='datalim')\n",
    "    if file_name:\n",
    "        plt.savefig(filename)"
   ]
  },
  {
   "cell_type": "code",
   "execution_count": null,
   "metadata": {},
   "outputs": [],
   "source": [
    "plot_points_scaled(X, y)"
   ]
  },
  {
   "cell_type": "code",
   "execution_count": null,
   "metadata": {},
   "outputs": [],
   "source": [
    "from sklearn.metrics import accuracy_score\n",
    "knn = KNeighborsClassifier(n_neighbors=5)\n",
    "knn.fit(X, y)\n",
    "y_pred = knn.predict(X)\n",
    "print accuracy_score(y_pred, y)"
   ]
  },
  {
   "cell_type": "code",
   "execution_count": null,
   "metadata": {},
   "outputs": [],
   "source": [
    "from sklearn.preprocessing import MinMaxScaler\n",
    "knn = KNeighborsClassifier(n_neighbors=5)\n",
    "X_scaled = MinMaxScaler().fit_transform(X)\n",
    "knn.fit(X_scaled, y)\n",
    "y_pred = knn.predict(X_scaled)\n",
    "print accuracy_score(y_pred, y)"
   ]
  },
  {
   "cell_type": "markdown",
   "metadata": {},
   "source": [
    "### Другой пример \n",
    "\n",
    "<img src=\"pics/knn_cls.png\">\n",
    "<img src=\"pics/knn_cls_1.png\">"
   ]
  },
  {
   "cell_type": "markdown",
   "metadata": {},
   "source": [
    "## KNN в задаче регрессии"
   ]
  },
  {
   "cell_type": "code",
   "execution_count": null,
   "metadata": {},
   "outputs": [],
   "source": [
    "X = 10 * np.random.rand(100, 1).reshape(-1, 1)\n",
    "y = X + np.random.randn(100, 1)"
   ]
  },
  {
   "cell_type": "code",
   "execution_count": null,
   "metadata": {},
   "outputs": [],
   "source": [
    "def plot_points_regression(X, y, new_points=None, new_prediction=None, nearest_points=None, file_name=None):\n",
    "    plt.scatter(X[:, 0], y, c='blue', s=100, edgecolor='black', alpha=0.3)\n",
    "    \n",
    "    if new_points is not None:\n",
    "        plt.scatter(new_points, new_prediction, c='green', s=100, edgecolor='black')\n",
    "    \n",
    "    plt.title(\"Regression problem \\n What is the y value for the new x?\")\n",
    "    plt.xlabel(\"x1 (feature)\")\n",
    "    plt.ylabel(\"x2 (feature)\")\n",
    "    plt.gca().set_aspect('equal', adjustable='box')\n",
    "    \n",
    "    if file_name:\n",
    "        plt.savefig(filename)"
   ]
  },
  {
   "cell_type": "code",
   "execution_count": null,
   "metadata": {},
   "outputs": [],
   "source": [
    "plot_points_regression(X, y)"
   ]
  },
  {
   "cell_type": "code",
   "execution_count": null,
   "metadata": {},
   "outputs": [],
   "source": [
    "from sklearn.neighbors import KNeighborsRegressor\n",
    "knn = KNeighborsRegressor(n_neighbors=3)\n",
    "knn.fit(X, y)\n",
    "x_new = 10 * np.random.rand(10, 1).reshape(-1, 1)\n",
    "y_pred = knn.predict(x_new)"
   ]
  },
  {
   "cell_type": "code",
   "execution_count": null,
   "metadata": {},
   "outputs": [],
   "source": [
    "plot_points_regression(X, y, new_points=x_new, new_prediction=y_pred)"
   ]
  },
  {
   "cell_type": "code",
   "execution_count": null,
   "metadata": {},
   "outputs": [],
   "source": [
    "x_new = (30 * np.random.rand(100, 1) - 10).reshape(-1, 1)"
   ]
  },
  {
   "cell_type": "code",
   "execution_count": null,
   "metadata": {},
   "outputs": [],
   "source": [
    "knn = KNeighborsRegressor(n_neighbors=1)\n",
    "knn.fit(X, y)\n",
    "y_pred = knn.predict(x_new)\n",
    "plot_points_regression(X, y, new_points=x_new, new_prediction=y_pred)"
   ]
  },
  {
   "cell_type": "code",
   "execution_count": null,
   "metadata": {},
   "outputs": [],
   "source": [
    "knn = KNeighborsRegressor(n_neighbors=30)\n",
    "knn.fit(X, y)\n",
    "y_pred = knn.predict(x_new)\n",
    "plot_points_regression(X, y, new_points=x_new, new_prediction=y_pred)"
   ]
  },
  {
   "cell_type": "code",
   "execution_count": null,
   "metadata": {},
   "outputs": [],
   "source": [
    "knn = KNeighborsRegressor(n_neighbors=100)\n",
    "knn.fit(X, y)\n",
    "y_pred = knn.predict(x_new)\n",
    "plot_points_regression(X, y, new_points=x_new, new_prediction=y_pred)"
   ]
  },
  {
   "cell_type": "markdown",
   "metadata": {},
   "source": [
    "## Выбор параметров модели"
   ]
  },
  {
   "cell_type": "markdown",
   "metadata": {},
   "source": [
    "<img src=\"pics/vtt.png\">\n"
   ]
  },
  {
   "cell_type": "markdown",
   "metadata": {},
   "source": [
    "Testing set - в самом начале работы сохранить часть данных и не использовать их до внедрения модели в боевое окружение. Дальше работаем с разбиением на 2 части, которые вместо train и validation называем train и test."
   ]
  },
  {
   "cell_type": "code",
   "execution_count": null,
   "metadata": {},
   "outputs": [],
   "source": [
    "from sklearn.model_selection import train_test_split\n",
    "X_train, X_test, y_train, y_test = train_test_split(X, y, test_size=0.4, random_state=42)"
   ]
  },
  {
   "cell_type": "code",
   "execution_count": null,
   "metadata": {},
   "outputs": [],
   "source": [
    "X_train.shape, X_test.shape, y_train.shape, y_test.shape "
   ]
  },
  {
   "cell_type": "code",
   "execution_count": null,
   "metadata": {},
   "outputs": [],
   "source": [
    "from sklearn.metrics import mean_squared_error\n",
    "neighbors = range(1, 50)\n",
    "errors_train = []\n",
    "errors_test = []\n",
    "for k in neighbors:\n",
    "    knn = KNeighborsRegressor(n_neighbors=k)\n",
    "    knn.fit(X_train, y_train)\n",
    "    errors_train.append(mean_squared_error(knn.predict(X_train), y_train))\n",
    "    errors_test.append(mean_squared_error(knn.predict(X_test), y_test))\n",
    "    \n",
    "plt.plot(neighbors, errors_train, color='blue', label='train')\n",
    "plt.plot(neighbors, errors_test, color='red', label='test')\n",
    "plt.legend()"
   ]
  },
  {
   "cell_type": "code",
   "execution_count": null,
   "metadata": {},
   "outputs": [],
   "source": [
    "X, y = datasets.make_blobs(n_samples=100, random_state=4, centers=2, cluster_std=2)\n",
    "X[:5], y[:5]\n",
    "plot_points(X, y)"
   ]
  },
  {
   "cell_type": "code",
   "execution_count": null,
   "metadata": {},
   "outputs": [],
   "source": [
    "from sklearn.model_selection import train_test_split\n",
    "X_train, X_test, y_train, y_test = train_test_split(X, y, test_size=0.4, random_state=42)\n",
    "X_train.shape, X_test.shape, y_train.shape, y_test.shape \n"
   ]
  },
  {
   "cell_type": "code",
   "execution_count": null,
   "metadata": {},
   "outputs": [],
   "source": [
    "neighbors = range(1, 60)\n",
    "errors_train = []\n",
    "errors_test = []\n",
    "for k in neighbors:\n",
    "    knn = KNeighborsClassifier(n_neighbors=k)\n",
    "    knn.fit(X_train, y_train)\n",
    "    errors_train.append(accuracy_score(knn.predict(X_train), y_train))\n",
    "    errors_test.append(accuracy_score(knn.predict(X_test), y_test))\n",
    "    \n",
    "plt.plot(neighbors, errors_train, color='blue', label='train')\n",
    "plt.plot(neighbors, errors_test, color='red', label='test')\n",
    "plt.legend()"
   ]
  },
  {
   "cell_type": "code",
   "execution_count": null,
   "metadata": {},
   "outputs": [],
   "source": [
    "X, y = datasets.make_blobs(n_samples=300, random_state=4, centers=2, cluster_std=2)\n",
    "X[:5], y[:5]\n",
    "plot_points(X, y)\n",
    "\n",
    "X_train, X_test, y_train, y_test = train_test_split(X, y, test_size=0.4, random_state=42)\n",
    "X_train.shape, X_test.shape, y_train.shape, y_test.shape \n"
   ]
  },
  {
   "cell_type": "code",
   "execution_count": null,
   "metadata": {},
   "outputs": [],
   "source": [
    "from sklearn.metrics import accuracy_score\n",
    "\n",
    "neighbors = range(1, 100)\n",
    "errors_train = []\n",
    "errors_test = []\n",
    "for k in neighbors:\n",
    "    knn = KNeighborsClassifier(n_neighbors=k)\n",
    "    knn.fit(X_train, y_train)\n",
    "    errors_train.append(accuracy_score(knn.predict(X_train), y_train))\n",
    "    errors_test.append(accuracy_score(knn.predict(X_test), y_test))\n",
    "    \n",
    "plt.plot(neighbors, errors_train, color='blue', label='train')\n",
    "plt.plot(neighbors, errors_test, color='red', label='test')\n",
    "plt.legend()"
   ]
  },
  {
   "cell_type": "markdown",
   "metadata": {},
   "source": [
    "## Кросс-валидация"
   ]
  },
  {
   "cell_type": "code",
   "execution_count": null,
   "metadata": {},
   "outputs": [],
   "source": [
    "m = 100\n",
    "np.random.seed(8)\n",
    "X = 6 * np.random.rand(m, 1) - 3\n",
    "y = 0.5 * X**2 + X + 2 + np.random.randn(m, 1)\n",
    "X_new = np.linspace(-3, 3, 100).reshape(100, 1)"
   ]
  },
  {
   "cell_type": "code",
   "execution_count": null,
   "metadata": {},
   "outputs": [],
   "source": [
    "from sklearn.preprocessing import StandardScaler\n",
    "from sklearn.pipeline import Pipeline\n",
    "from sklearn.linear_model import LinearRegression\n",
    "from sklearn.preprocessing import PolynomialFeatures\n",
    "from itertools import cycle\n",
    "cycol = cycle('bgrcmk').next\n",
    "\n",
    "for degree in range(1, 30, 5):\n",
    "    style = cycol()\n",
    "    polybig_features = PolynomialFeatures(degree=degree, include_bias=False)\n",
    "    std_scaler = StandardScaler()\n",
    "    lin_reg = LinearRegression()\n",
    "    polynomial_regression = Pipeline([\n",
    "            (\"poly_features\", polybig_features),\n",
    "            (\"std_scaler\", std_scaler),\n",
    "            (\"lin_reg\", lin_reg),\n",
    "        ])\n",
    "    polynomial_regression.fit(X, y)\n",
    "    y_newbig = polynomial_regression.predict(X_new)\n",
    "    plt.plot(X_new, y_newbig, style, label=str(degree))\n",
    "\n",
    "plt.plot(X, y, \"b.\", linewidth=3)\n",
    "plt.legend(loc=\"upper left\")\n",
    "plt.xlabel(\"$x_1$\", fontsize=18)\n",
    "plt.ylabel(\"$y$\", rotation=0, fontsize=18)\n",
    "plt.axis([-3, 3, 0, 10])\n",
    "plt.savefig('pics/regression_poly_overfit.pdf')\n",
    "plt.show()"
   ]
  },
  {
   "cell_type": "code",
   "execution_count": null,
   "metadata": {},
   "outputs": [],
   "source": [
    "X_train, X_test, y_train, y_test = train_test_split(X, y, test_size=0.4, random_state=42)\n",
    "\n",
    "\n",
    "errors_train = []\n",
    "errors_test = []\n",
    "degree = range(1, 20, 1)\n",
    "for d in degree:\n",
    "    \n",
    "    polybig_features = PolynomialFeatures(degree=d, include_bias=False)\n",
    "    std_scaler = StandardScaler()\n",
    "    lr = LinearRegression()\n",
    "    polynomial_regression = Pipeline([\n",
    "            (\"poly_features\", polybig_features),\n",
    "            (\"std_scaler\", std_scaler),\n",
    "            (\"lr\", lr),\n",
    "        ])\n",
    "    polynomial_regression.fit(X_train, y_train)\n",
    "    errors_train.append(mean_squared_error(polynomial_regression.predict(X_train), y_train))\n",
    "    errors_test.append(mean_squared_error(polynomial_regression.predict(X_test), y_test))\n",
    "    \n",
    "plt.plot(degree, errors_train, color='blue', label='train')\n",
    "plt.plot(degree, errors_test, color='red', label='test')\n",
    "plt.legend()"
   ]
  },
  {
   "cell_type": "code",
   "execution_count": null,
   "metadata": {},
   "outputs": [],
   "source": [
    "X_train, X_test, y_train, y_test = train_test_split(X, y, test_size=0.4, random_state=42)\n",
    "from sklearn.pipeline import make_pipeline\n",
    "reg = make_pipeline(\n",
    "    PolynomialFeatures(degree=2, include_bias=False),\n",
    "    StandardScaler(), \n",
    "    LinearRegression()\n",
    ")\n",
    "reg.fit(X_train, y_train)\n",
    "mean_squared_error(reg.predict(X_test), y_test)"
   ]
  },
  {
   "cell_type": "code",
   "execution_count": null,
   "metadata": {},
   "outputs": [],
   "source": [
    "X_train, X_test, y_train, y_test = train_test_split(X, y, test_size=0.4, random_state=2)\n",
    "reg = make_pipeline(\n",
    "    PolynomialFeatures(degree=2, include_bias=False),\n",
    "    StandardScaler(), \n",
    "    LinearRegression()\n",
    ")\n",
    "reg.fit(X_train, y_train)\n",
    "mean_squared_error(reg.predict(X_test), y_test)"
   ]
  },
  {
   "cell_type": "markdown",
   "metadata": {},
   "source": [
    "<img src='pics/cv.png'>"
   ]
  },
  {
   "cell_type": "code",
   "execution_count": null,
   "metadata": {},
   "outputs": [],
   "source": [
    "from sklearn.model_selection import cross_val_score\n",
    "reg = make_pipeline(\n",
    "    PolynomialFeatures(degree=2, include_bias=False),\n",
    "    StandardScaler(), \n",
    "    LinearRegression()\n",
    ")\n",
    "scores = cross_val_score(reg, X, y, cv=5, scoring='neg_mean_squared_error')\n",
    "print scores\n",
    "print 'mean', scores.mean()\n",
    "print 'std', scores.std()"
   ]
  },
  {
   "cell_type": "code",
   "execution_count": null,
   "metadata": {},
   "outputs": [],
   "source": [
    "from sklearn.linear_model import Ridge\n",
    "reg = make_pipeline(\n",
    "    PolynomialFeatures(degree=2, include_bias=False),\n",
    "    StandardScaler(), \n",
    "    Ridge()\n",
    ")\n",
    "scores = cross_val_score(reg, X, y, cv=5, scoring='neg_mean_squared_error')\n",
    "print scores\n",
    "print 'mean', scores.mean()\n",
    "print 'std', scores.std()"
   ]
  },
  {
   "cell_type": "markdown",
   "metadata": {},
   "source": [
    "## GridSearch"
   ]
  },
  {
   "cell_type": "code",
   "execution_count": null,
   "metadata": {},
   "outputs": [],
   "source": [
    "from sklearn.model_selection import GridSearchCV\n",
    "\n",
    "param_grid = [\n",
    "    {'ridge__alpha': [1e-8, 1e-7, 1e-6, 1e-5, 0.0001, 0.001, 0.01, 0.1, 1, 10]},\n",
    "]\n",
    "\n",
    "reg = make_pipeline(\n",
    "    PolynomialFeatures(degree=2, include_bias=False),\n",
    "    StandardScaler(), \n",
    "    Ridge()\n",
    ")\n",
    "\n",
    "grid_search = GridSearchCV(reg, param_grid, cv=5, scoring='neg_mean_squared_error')\n",
    "grid_search.fit(X, y)"
   ]
  },
  {
   "cell_type": "code",
   "execution_count": null,
   "metadata": {},
   "outputs": [],
   "source": [
    "grid_search.best_params_"
   ]
  },
  {
   "cell_type": "code",
   "execution_count": null,
   "metadata": {},
   "outputs": [],
   "source": [
    "grid_search.best_estimator_"
   ]
  },
  {
   "cell_type": "code",
   "execution_count": null,
   "metadata": {},
   "outputs": [],
   "source": [
    "grid_search.best_score_"
   ]
  },
  {
   "cell_type": "code",
   "execution_count": null,
   "metadata": {},
   "outputs": [],
   "source": [
    "from sklearn.model_selection import GridSearchCV\n",
    "\n",
    "param_grid = [\n",
    "    {\n",
    "        'ridge__alpha': [1e-8, 1e-7, 1e-6, 1e-5, 0.0001, 0.001, 0.01, 0.1, 1, 10],\n",
    "        'polynomialfeatures__degree': [1, 2, 3, 4, 5]\n",
    "    },\n",
    "]\n",
    "\n",
    "reg = make_pipeline(\n",
    "    PolynomialFeatures(include_bias=False),\n",
    "    StandardScaler(), \n",
    "    Ridge()\n",
    ")\n",
    "\n",
    "grid_search = GridSearchCV(reg, param_grid, cv=5, scoring='neg_mean_squared_error')\n",
    "grid_search.fit(X, y)"
   ]
  },
  {
   "cell_type": "code",
   "execution_count": null,
   "metadata": {},
   "outputs": [],
   "source": [
    "grid_search.best_params_"
   ]
  },
  {
   "cell_type": "code",
   "execution_count": null,
   "metadata": {},
   "outputs": [],
   "source": [
    "grid_search.best_score_"
   ]
  },
  {
   "cell_type": "code",
   "execution_count": null,
   "metadata": {},
   "outputs": [],
   "source": [
    "from sklearn.model_selection import RandomizedSearchCV\n",
    "\n",
    "param_grid = {\n",
    "        'ridge__alpha': [1e-8, 1e-7, 1e-6, 1e-5, 0.0001, 0.001, 0.01, 0.1, 1, 10],\n",
    "        'polynomialfeatures__degree': [1, 2, 3, 4, 5]\n",
    "    }\n",
    "\n",
    "reg = make_pipeline(\n",
    "    PolynomialFeatures(include_bias=False),\n",
    "    StandardScaler(), \n",
    "    Ridge()\n",
    ")\n",
    "\n",
    "rand_search = RandomizedSearchCV(reg, param_grid, cv=5, scoring='neg_mean_squared_error')\n",
    "rand_search.fit(X, y)"
   ]
  },
  {
   "cell_type": "code",
   "execution_count": null,
   "metadata": {},
   "outputs": [],
   "source": [
    "rand_search.best_estimator_"
   ]
  },
  {
   "cell_type": "code",
   "execution_count": null,
   "metadata": {},
   "outputs": [],
   "source": [
    "rand_search.best_score_"
   ]
  },
  {
   "cell_type": "code",
   "execution_count": null,
   "metadata": {},
   "outputs": [],
   "source": [
    "rand_search.best_params_"
   ]
  },
  {
   "cell_type": "markdown",
   "metadata": {},
   "source": [
    "Перед запуском в бой - проверить на отложенной выборке, но не менять параметры!"
   ]
  }
 ],
 "metadata": {
  "kernelspec": {
   "display_name": "Python 2",
   "language": "python",
   "name": "python2"
  },
  "language_info": {
   "codemirror_mode": {
    "name": "ipython",
    "version": 2
   },
   "file_extension": ".py",
   "mimetype": "text/x-python",
   "name": "python",
   "nbconvert_exporter": "python",
   "pygments_lexer": "ipython2",
   "version": "2.7.9"
  }
 },
 "nbformat": 4,
 "nbformat_minor": 2
}
